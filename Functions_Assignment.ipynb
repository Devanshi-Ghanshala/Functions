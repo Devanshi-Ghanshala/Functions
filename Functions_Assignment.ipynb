{
  "nbformat": 4,
  "nbformat_minor": 0,
  "metadata": {
    "colab": {
      "provenance": []
    },
    "kernelspec": {
      "name": "python3",
      "display_name": "Python 3"
    },
    "language_info": {
      "name": "python"
    }
  },
  "cells": [
    {
      "cell_type": "markdown",
      "source": [
        "#Q1. What is the difference between a function and a method in Python?\n",
        "\n",
        "- Function: A block of reusable code that performs a specific task. It is defined using the def keyword and can be called independently.\n",
        "- Method: A function that is associated with an object and is called on that object. It is defined within a class and operates on the object's data.\n"
      ],
      "metadata": {
        "id": "Sa3LnSfO-PcZ"
      }
    },
    {
      "cell_type": "code",
      "source": [
        "#Function:\n",
        "def greet(name):\n",
        "    return f\"Hello, {name}!\"\n",
        "\n",
        "print(greet(\"Zoey\"))"
      ],
      "metadata": {
        "colab": {
          "base_uri": "https://localhost:8080/"
        },
        "id": "IznEHv-v-jlu",
        "outputId": "70a44c3d-d0a2-4789-b50e-b02f69f7026d"
      },
      "execution_count": 1,
      "outputs": [
        {
          "output_type": "stream",
          "name": "stdout",
          "text": [
            "Hello, Zoey!\n"
          ]
        }
      ]
    },
    {
      "cell_type": "code",
      "source": [
        "#Method:\n",
        "class Dog:\n",
        "    def bark(self):\n",
        "        return \"Woof!\"\n",
        "\n",
        "puppy = Dog()\n",
        "print(puppy.bark())"
      ],
      "metadata": {
        "colab": {
          "base_uri": "https://localhost:8080/"
        },
        "id": "Ha9Y67kR-zS9",
        "outputId": "81bd467b-561b-4792-a11f-fb2fc379e042"
      },
      "execution_count": 2,
      "outputs": [
        {
          "output_type": "stream",
          "name": "stdout",
          "text": [
            "Woof!\n"
          ]
        }
      ]
    },
    {
      "cell_type": "markdown",
      "source": [
        "#Q2. Explain the concept of function arguments and parameters in Python.\n",
        "- Parameters: Variables listed in the function definition. They act as placeholders for the values that will be passed to the function.\n",
        "\n",
        "- Arguments: Actual values passed to the function when it is called.\n",
        "\n"
      ],
      "metadata": {
        "id": "I8qUdBPe_e7o"
      }
    },
    {
      "cell_type": "code",
      "source": [
        "#Parameters: a & b are parameters\n",
        "def add(a, b):\n",
        "    return a + b"
      ],
      "metadata": {
        "id": "s_IwyqvN_n4F"
      },
      "execution_count": 3,
      "outputs": []
    },
    {
      "cell_type": "code",
      "source": [
        "#Arguments: # 3 and 5 are arguments\n",
        "result = add(3, 5)\n",
        "print(result)"
      ],
      "metadata": {
        "colab": {
          "base_uri": "https://localhost:8080/"
        },
        "id": "lHGXBb7Q_yCu",
        "outputId": "fb784959-8cc0-4889-d134-eb1d769b6c70"
      },
      "execution_count": 4,
      "outputs": [
        {
          "output_type": "stream",
          "name": "stdout",
          "text": [
            "8\n"
          ]
        }
      ]
    },
    {
      "cell_type": "markdown",
      "source": [
        "#Q3. What are the different ways to define and call a function in Python?\n",
        "\n",
        "1. Normal Function Definition\n",
        "A normal function is defined using the def keyword. It can take any number of parameters and return a value using the return statement.\n",
        "\n",
        "2.  Lambda Function\n",
        "A lambda function is an anonymous function defined using the lambda keyword. It is typically used for short, throwaway functions.\n",
        "\n",
        "3. Using *args and **kwargs\n",
        "- *args allows a function to accept any number of positional arguments as a tuple.\n",
        "\n",
        "- **kwargs allows a function to accept any number of keyword arguments as a dictionary.\n",
        "\n"
      ],
      "metadata": {
        "id": "KcFt_LqrAAgY"
      }
    },
    {
      "cell_type": "code",
      "source": [
        "#Normal Function\n",
        "def greet(name):\n",
        "    return f\"Hello, {name}!\"\n",
        "\n",
        "print(greet(\"Zoey\"))"
      ],
      "metadata": {
        "colab": {
          "base_uri": "https://localhost:8080/"
        },
        "id": "T5yBVA2c_-32",
        "outputId": "52abaae0-759b-468c-a030-39a90361d8ae"
      },
      "execution_count": 5,
      "outputs": [
        {
          "output_type": "stream",
          "name": "stdout",
          "text": [
            "Hello, Zoey!\n"
          ]
        }
      ]
    },
    {
      "cell_type": "code",
      "source": [
        "#Lambda Function\n",
        "greet = lambda name: f\"Hello, {name}!\"\n",
        "\n",
        "print(greet(\"Zoey\"))"
      ],
      "metadata": {
        "colab": {
          "base_uri": "https://localhost:8080/"
        },
        "id": "Y1nj_DBCAROI",
        "outputId": "131d50f0-61b3-4a54-b38a-65fa80070709"
      },
      "execution_count": 6,
      "outputs": [
        {
          "output_type": "stream",
          "name": "stdout",
          "text": [
            "Hello, Zoey!\n"
          ]
        }
      ]
    },
    {
      "cell_type": "code",
      "source": [
        "#Using args and *kwargs\n",
        "def display_info(*args, **kwargs):\n",
        "    print(\"Positional arguments (args):\", args)\n",
        "    print(\"Keyword arguments (kwargs):\", kwargs)\n",
        "\n",
        "display_info(1, 2, 3, name=\"Alice\", age=25)"
      ],
      "metadata": {
        "colab": {
          "base_uri": "https://localhost:8080/"
        },
        "id": "tzvm96eqBDKa",
        "outputId": "ede24dfc-fd09-4c36-b96e-2539b675fb77"
      },
      "execution_count": 7,
      "outputs": [
        {
          "output_type": "stream",
          "name": "stdout",
          "text": [
            "Positional arguments (args): (1, 2, 3)\n",
            "Keyword arguments (kwargs): {'name': 'Alice', 'age': 25}\n"
          ]
        }
      ]
    },
    {
      "cell_type": "markdown",
      "source": [
        "#Q4. What is the purpose of the return statement in a Python function?\n",
        "The return statement is used to exit a function and return a value to the caller. If no return statement is provided, the function returns None.\n",
        "\n",
        "\n"
      ],
      "metadata": {
        "id": "GXHQCyZRBmzA"
      }
    },
    {
      "cell_type": "code",
      "source": [
        "def add(a, b):\n",
        "    return a + b\n",
        "\n",
        "add(2, 3)"
      ],
      "metadata": {
        "colab": {
          "base_uri": "https://localhost:8080/"
        },
        "id": "W4MA-9RJBay_",
        "outputId": "0e1b3e1f-3453-4fd8-e5e9-d2bfc16879e2"
      },
      "execution_count": 8,
      "outputs": [
        {
          "output_type": "execute_result",
          "data": {
            "text/plain": [
              "5"
            ]
          },
          "metadata": {},
          "execution_count": 8
        }
      ]
    },
    {
      "cell_type": "markdown",
      "source": [
        "#Q5. What are iterators in Python and how do they differ from iterables?\n",
        "- Iterable: An object that can be iterated over (e.g., lists, tuples, strings). It implements the __iter__() method.\n",
        "\n",
        "- Iterator: An object that implements the __iter__() and __next__() methods. It keeps track of the current state during iteration.\n",
        "\n",
        "\n"
      ],
      "metadata": {
        "id": "HQ6DagjFB3HO"
      }
    },
    {
      "cell_type": "code",
      "source": [
        "#Iterables:\n",
        "my_list = [1, 2, 3]\n",
        "for item in my_list:\n",
        "    print(item)"
      ],
      "metadata": {
        "colab": {
          "base_uri": "https://localhost:8080/"
        },
        "id": "j6B7y4nvBv-4",
        "outputId": "ac1701bc-e6b0-4d4d-afe8-9409fe2b3e76"
      },
      "execution_count": 9,
      "outputs": [
        {
          "output_type": "stream",
          "name": "stdout",
          "text": [
            "1\n",
            "2\n",
            "3\n"
          ]
        }
      ]
    },
    {
      "cell_type": "code",
      "source": [
        "#Iterators:\n",
        "my_iter = iter(my_list)\n",
        "print(next(my_iter))\n",
        "print(next(my_iter))\n",
        "print(next(my_iter))"
      ],
      "metadata": {
        "colab": {
          "base_uri": "https://localhost:8080/"
        },
        "id": "khNqOIMyCLN2",
        "outputId": "faea4eb8-7845-472f-f601-8c06abf2d290"
      },
      "execution_count": 10,
      "outputs": [
        {
          "output_type": "stream",
          "name": "stdout",
          "text": [
            "1\n",
            "2\n",
            "3\n"
          ]
        }
      ]
    },
    {
      "cell_type": "markdown",
      "source": [
        "#Q6. Explain the concept of generators in Python and how they are defined.\n",
        "Generators are functions that use the yield keyword to produce a sequence of values lazily (on-the-fly). They are memory-efficient for large datasets.\n"
      ],
      "metadata": {
        "id": "pc6kiteTCo9p"
      }
    },
    {
      "cell_type": "code",
      "source": [
        "def my_generator():\n",
        "    yield 1\n",
        "    yield 2\n",
        "    yield 3\n",
        "\n",
        "gen = my_generator()\n",
        "print(next(gen))"
      ],
      "metadata": {
        "colab": {
          "base_uri": "https://localhost:8080/"
        },
        "id": "eXHKCdWPCXgz",
        "outputId": "55975e1d-5d00-4c87-e93d-5f2e0dda4c72"
      },
      "execution_count": 11,
      "outputs": [
        {
          "output_type": "stream",
          "name": "stdout",
          "text": [
            "1\n"
          ]
        }
      ]
    },
    {
      "cell_type": "markdown",
      "source": [
        "#Q7. What are the advantages of using generators over regular functions?\n",
        "- Generators produce values on-the-fly and do not store the entire sequence in memory.\n",
        "\n",
        "- Values are generated only when needed.\n",
        "\n",
        "- Generators can represent infinite sequences."
      ],
      "metadata": {
        "id": "bocvH-7TC8Ce"
      }
    },
    {
      "cell_type": "markdown",
      "source": [
        "#Q8. What is a lambda function in Python and when is it typically used?\n",
        "A lambda function is an anonymous function defined using the lambda keyword. It is typically used for short, throwaway functions."
      ],
      "metadata": {
        "id": "u_RIAYzEDYMH"
      }
    },
    {
      "cell_type": "code",
      "source": [
        "add = lambda a, b: a + b\n",
        "print(add(2, 3))"
      ],
      "metadata": {
        "colab": {
          "base_uri": "https://localhost:8080/"
        },
        "id": "vi_JDEUZCsSi",
        "outputId": "bde12feb-bfce-4607-ec62-f095359120ff"
      },
      "execution_count": 12,
      "outputs": [
        {
          "output_type": "stream",
          "name": "stdout",
          "text": [
            "5\n"
          ]
        }
      ]
    },
    {
      "cell_type": "markdown",
      "source": [
        "#Q9. Explain the purpose and usage of the map() function in Python.\n",
        "The map() function applies a given function to all items in an iterable and returns an iterator."
      ],
      "metadata": {
        "id": "klK_e0n3DjPp"
      }
    },
    {
      "cell_type": "code",
      "source": [
        "numbers = [1, 2, 3, 4]\n",
        "squared = map(lambda x: x**2, numbers)\n",
        "print(list(squared))"
      ],
      "metadata": {
        "colab": {
          "base_uri": "https://localhost:8080/"
        },
        "id": "DkxMGbVlDWMn",
        "outputId": "655bb64e-5797-4e7e-e5a0-f308a97207ec"
      },
      "execution_count": 13,
      "outputs": [
        {
          "output_type": "stream",
          "name": "stdout",
          "text": [
            "[1, 4, 9, 16]\n"
          ]
        }
      ]
    },
    {
      "cell_type": "markdown",
      "source": [
        "#Q10. What is the difference between map(), reduce(), and filter() functions in Python?\n",
        "- map(): Applies a function to all items in an iterable.\n",
        "- filter(): Filters items in an iterable based on a condition.\n",
        "- reduce(): Applies a function cumulatively to the items of an iterable, reducing it to a single value."
      ],
      "metadata": {
        "id": "5gL_FkDvD2Wo"
      }
    },
    {
      "cell_type": "code",
      "source": [
        "#map()\n",
        "numbers = [1, 2, 3]\n",
        "squared = map(lambda x: x**2, numbers)\n",
        "print(list(squared))"
      ],
      "metadata": {
        "colab": {
          "base_uri": "https://localhost:8080/"
        },
        "id": "vbL_9jcwDg7L",
        "outputId": "59ef2c3e-3b0d-49c5-cee5-c1d228602cd0"
      },
      "execution_count": 14,
      "outputs": [
        {
          "output_type": "stream",
          "name": "stdout",
          "text": [
            "[1, 4, 9]\n"
          ]
        }
      ]
    },
    {
      "cell_type": "code",
      "source": [
        "#filter()\n",
        "numbers = [1, 2, 3, 4]\n",
        "even_no = filter(lambda x: x % 2 == 0, numbers)\n",
        "print(list(even_no))"
      ],
      "metadata": {
        "colab": {
          "base_uri": "https://localhost:8080/"
        },
        "id": "626E8tL7EGof",
        "outputId": "870e8a04-2898-48e4-81d7-f1ee1ee16f18"
      },
      "execution_count": 15,
      "outputs": [
        {
          "output_type": "stream",
          "name": "stdout",
          "text": [
            "[2, 4]\n"
          ]
        }
      ]
    },
    {
      "cell_type": "code",
      "source": [
        "#reduce()\n",
        "from functools import reduce\n",
        "numbers = [1, 2, 3, 4]\n",
        "total = reduce(lambda a, b: a + b, numbers)\n",
        "print(total)"
      ],
      "metadata": {
        "colab": {
          "base_uri": "https://localhost:8080/"
        },
        "id": "yymzH-I8EHcu",
        "outputId": "84ee7c73-7f85-4cd3-cba0-a38f3819f7b8"
      },
      "execution_count": 16,
      "outputs": [
        {
          "output_type": "stream",
          "name": "stdout",
          "text": [
            "10\n"
          ]
        }
      ]
    },
    {
      "cell_type": "markdown",
      "source": [
        "#Q11. Using pen & Paper write the internal mechanism for sum operation using reduce() function on this given list: [47, 11, 42, 13].![WhatsApp Image 2025-03-07 at 01.44.16_278ab496.jpg](data:image/jpeg;base64,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)"
      ],
      "metadata": {
        "id": "pausyuakEXun"
      }
    },
    {
      "cell_type": "code",
      "source": [
        "#Q1. Write a Python function that takes a list of numbers as input and returns the sum of all even numbers in the list.\n",
        "def sum_even_no(numbers):\n",
        "  total = 0\n",
        "  for num in numbers:\n",
        "        if num % 2 == 0:\n",
        "            total += num\n",
        "  return total\n",
        "\n",
        "print(sum_even_no([1, 2, 3, 4, 5, 6, 7, 8, 9]))"
      ],
      "metadata": {
        "colab": {
          "base_uri": "https://localhost:8080/"
        },
        "id": "usmvM2VBGUEZ",
        "outputId": "86841df4-9920-4dac-ce7e-64268aa74450"
      },
      "execution_count": 17,
      "outputs": [
        {
          "output_type": "stream",
          "name": "stdout",
          "text": [
            "20\n"
          ]
        }
      ]
    },
    {
      "cell_type": "code",
      "source": [
        "#Q2: Create a Python function that accepts a string and returns the reverse of that string.\n",
        "def reverse_string(text):\n",
        "    return text[::-1]\n",
        "\n",
        "print(reverse_string(\"Zoey Sullivan\"))"
      ],
      "metadata": {
        "colab": {
          "base_uri": "https://localhost:8080/"
        },
        "id": "Il5UUg2KHE8N",
        "outputId": "8ed56d13-ee5d-4643-a3ab-d8c6b0faa38b"
      },
      "execution_count": 18,
      "outputs": [
        {
          "output_type": "stream",
          "name": "stdout",
          "text": [
            "navilluS yeoZ\n"
          ]
        }
      ]
    },
    {
      "cell_type": "code",
      "source": [
        "#Q3. Implement a Python function that takes a list of integers and returns a new list containing the squares of each number.\n",
        "def square_numbers(numbers):\n",
        "    return [num ** 2 for num in numbers]\n",
        "\n",
        "print(square_numbers([1, 2, 3, 4, 5, 6, 7, 8, 9]))"
      ],
      "metadata": {
        "colab": {
          "base_uri": "https://localhost:8080/"
        },
        "id": "i7rGa3ljHt92",
        "outputId": "a6947627-d0e6-497a-b014-7d6cdc52b226"
      },
      "execution_count": 19,
      "outputs": [
        {
          "output_type": "stream",
          "name": "stdout",
          "text": [
            "[1, 4, 9, 16, 25, 36, 49, 64, 81]\n"
          ]
        }
      ]
    },
    {
      "cell_type": "code",
      "source": [
        "#Q4. Write a Python function that checks if a given number is prime or not from 1 to 200.\n",
        "def is_prime(n):\n",
        "    if n <= 1:\n",
        "        return False\n",
        "    for i in range(2, int(n**0.5) + 1):\n",
        "        if n % i == 0:\n",
        "            return False\n",
        "    return True\n",
        "\n",
        "for num in range(1, 201):\n",
        "    if is_prime(num):\n",
        "        print(num, end=\" \")"
      ],
      "metadata": {
        "colab": {
          "base_uri": "https://localhost:8080/"
        },
        "id": "elv250GeIEnv",
        "outputId": "dfeb314e-ccb8-4443-cc42-98644bc2e192"
      },
      "execution_count": 20,
      "outputs": [
        {
          "output_type": "stream",
          "name": "stdout",
          "text": [
            "2 3 5 7 11 13 17 19 23 29 31 37 41 43 47 53 59 61 67 71 73 79 83 89 97 101 103 107 109 113 127 131 137 139 149 151 157 163 167 173 179 181 191 193 197 199 "
          ]
        }
      ]
    },
    {
      "cell_type": "code",
      "source": [
        "#Q5. Create an iterator class in Python that generates the Fibonacci sequence up to a specified number of terms.\n",
        "class FibonacciIterator:\n",
        "    def __init__(self, max_terms):\n",
        "        self.max_terms = max_terms\n",
        "        self.a, self.b = 0, 1\n",
        "        self.count = 0\n",
        "\n",
        "    def __iter__(self):\n",
        "        return self\n",
        "\n",
        "    def __next__(self):\n",
        "        if self.count >= self.max_terms:\n",
        "            raise StopIteration\n",
        "        result = self.a\n",
        "        self.a, self.b = self.b, self.a + self.b\n",
        "        self.count += 1\n",
        "        return result\n",
        "\n",
        "fib = FibonacciIterator(10)\n",
        "for num in fib:\n",
        "    print(num, end=\" \")"
      ],
      "metadata": {
        "colab": {
          "base_uri": "https://localhost:8080/"
        },
        "id": "vvBo-0kcIZtY",
        "outputId": "a803a411-6bd8-4ec2-fa04-6f38c1d8592a"
      },
      "execution_count": 21,
      "outputs": [
        {
          "output_type": "stream",
          "name": "stdout",
          "text": [
            "0 1 1 2 3 5 8 13 21 34 "
          ]
        }
      ]
    },
    {
      "cell_type": "code",
      "source": [
        "#Q6. Write a generator function in Python that yields the powers of 2 up to a given exponent.\n",
        "def powers_of_2(n):\n",
        "    for i in range(n + 1):\n",
        "        yield 2 ** i\n",
        "\n",
        "print(list(powers_of_2(10)))"
      ],
      "metadata": {
        "colab": {
          "base_uri": "https://localhost:8080/"
        },
        "id": "oTeDG2fHIfIJ",
        "outputId": "49ea1b1d-5908-4a53-e092-309771abb3ca"
      },
      "execution_count": 22,
      "outputs": [
        {
          "output_type": "stream",
          "name": "stdout",
          "text": [
            "[1, 2, 4, 8, 16, 32, 64, 128, 256, 512, 1024]\n"
          ]
        }
      ]
    },
    {
      "cell_type": "code",
      "source": [
        "#Q7. Implement a generator function that reads a file line by line and yields each line as a string.\n",
        "def read_file_lines(filename):\n",
        "    try:\n",
        "        with open(filename, 'r') as file:\n",
        "            for line in file:\n",
        "                yield line.strip()\n",
        "    except FileNotFoundError:\n",
        "        print(f\"Error: The file '{filename}' does not exist.\")\n",
        "    except Exception as e:\n",
        "        print(f\"An error occurred: {e}\")\n",
        "filename = 'zoey.txt'\n",
        "for line in read_file_lines(filename):\n",
        "    print(line)"
      ],
      "metadata": {
        "colab": {
          "base_uri": "https://localhost:8080/"
        },
        "id": "0tV9jrZvIghv",
        "outputId": "e2bf4623-24ca-47f2-905e-126db19d5baf"
      },
      "execution_count": 23,
      "outputs": [
        {
          "output_type": "stream",
          "name": "stdout",
          "text": [
            "Error: The file 'zoey.txt' does not exist.\n"
          ]
        }
      ]
    },
    {
      "cell_type": "code",
      "source": [
        "#Q8. Use a lambda function in Python to sort a list of tuples based on the second element of each tuple.\n",
        "data = [(127, 359), (44, 16), (18, 81), (99, 100)]\n",
        "sorted_data = sorted(data, key=lambda x: x[1])\n",
        "print(sorted_data)"
      ],
      "metadata": {
        "colab": {
          "base_uri": "https://localhost:8080/"
        },
        "id": "7v63OGhWIjKU",
        "outputId": "e44b6725-edd9-4d94-cbdb-38ebed5c781a"
      },
      "execution_count": 24,
      "outputs": [
        {
          "output_type": "stream",
          "name": "stdout",
          "text": [
            "[(44, 16), (18, 81), (99, 100), (127, 359)]\n"
          ]
        }
      ]
    },
    {
      "cell_type": "code",
      "source": [
        "#Q9. Write a Python program that uses `map()` to convert a list of temperatures from Celsius to Fahrenheit.\n",
        "celsius = [0, 50, 100]\n",
        "fahrenheit = list(map(lambda c: (c * 9/5) + 32, celsius))\n",
        "print(fahrenheit)"
      ],
      "metadata": {
        "colab": {
          "base_uri": "https://localhost:8080/"
        },
        "id": "eD8DpeCzIleY",
        "outputId": "0f15227c-8575-4fb9-881a-9649a076ad0d"
      },
      "execution_count": 25,
      "outputs": [
        {
          "output_type": "stream",
          "name": "stdout",
          "text": [
            "[32.0, 122.0, 212.0]\n"
          ]
        }
      ]
    },
    {
      "cell_type": "code",
      "source": [
        "#Q10. Create a Python program that uses `filter()` to remove all the vowels from a given string.\n",
        "text = \"Zoey Sullivan\"\n",
        "vowels = \"aeiouAEIOU\"\n",
        "filtered_text = ''.join(filter(lambda x: x not in vowels, text))\n",
        "print(filtered_text)"
      ],
      "metadata": {
        "colab": {
          "base_uri": "https://localhost:8080/"
        },
        "id": "ufiGy6vvIot2",
        "outputId": "12a7b5fa-27a5-401f-d777-2ec5cc6029bd"
      },
      "execution_count": 26,
      "outputs": [
        {
          "output_type": "stream",
          "name": "stdout",
          "text": [
            "Zy Sllvn\n"
          ]
        }
      ]
    },
    {
      "cell_type": "code",
      "source": [
        "#Q11. Imagine an accounting routine used in a book shop. It works on a list with sublists, which look like this:\n",
        "\n",
        "orders = [\n",
        "    (34587, \"Learning Python, Mark Lutz\", 4, 40.95),\n",
        "    (98762, \"Programming Python, Mark Lutz\", 5, 56.80),\n",
        "    (77226, \"Head First Python, Paul Barry\", 3, 32.95),\n",
        "    (88112, \"Einführung in Python3, Bernd Klein\", 3, 24.99)\n",
        "]\n",
        "processed_orders = list(map(lambda order:\n",
        "    (order[0], round(order[2] * order[3] if order[2] * order[3] >= 100 else order[2] * order[3] + 10, 2)),\n",
        "    orders))\n",
        "\n",
        "print(processed_orders)"
      ],
      "metadata": {
        "colab": {
          "base_uri": "https://localhost:8080/"
        },
        "id": "un_GsRHWJ7s_",
        "outputId": "6b9d9b0e-0672-4d75-a8cf-042b4c685f36"
      },
      "execution_count": 27,
      "outputs": [
        {
          "output_type": "stream",
          "name": "stdout",
          "text": [
            "[(34587, 163.8), (98762, 284.0), (77226, 108.85), (88112, 84.97)]\n"
          ]
        }
      ]
    }
  ]
}